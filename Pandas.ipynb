{
  "nbformat": 4,
  "nbformat_minor": 0,
  "metadata": {
    "colab": {
      "name": "Pandas.ipynb",
      "provenance": [],
      "authorship_tag": "ABX9TyNhUn8IE7BYYc8M3divckhf",
      "include_colab_link": true
    },
    "kernelspec": {
      "name": "python3",
      "display_name": "Python 3"
    }
  },
  "cells": [
    {
      "cell_type": "markdown",
      "metadata": {
        "id": "view-in-github",
        "colab_type": "text"
      },
      "source": [
        "<a href=\"https://colab.research.google.com/github/samikshalokhande/Pandas/blob/main/Pandas.ipynb\" target=\"_parent\"><img src=\"https://colab.research.google.com/assets/colab-badge.svg\" alt=\"Open In Colab\"/></a>"
      ]
    },
    {
      "cell_type": "markdown",
      "metadata": {
        "id": "f8YacJ8NRYj-"
      },
      "source": [
        "Pandas is an open-source library that is built on top of NumPy library. \n",
        "\n",
        "Data can be in the form of:\n",
        "\n",
        "\n",
        "1.  Scalar (int,float etc)\n",
        "2.  Python Dictionaries \n",
        "3.  Dataframes\n",
        "4.  Numpy Arrays\n",
        "\n",
        "\n"
      ]
    },
    {
      "cell_type": "code",
      "metadata": {
        "id": "Dn9SqxQ3SI37",
        "outputId": "7eef425e-b80a-495a-ceec-d63d9b89010e",
        "colab": {
          "base_uri": "https://localhost:8080/"
        }
      },
      "source": [
        "#Download using pip:\n",
        "!pip install numpy\n",
        "!pip install pandas"
      ],
      "execution_count": 12,
      "outputs": [
        {
          "output_type": "stream",
          "text": [
            "Requirement already satisfied: numpy in /usr/local/lib/python3.6/dist-packages (1.18.5)\n",
            "Requirement already satisfied: pandas in /usr/local/lib/python3.6/dist-packages (1.1.4)\n",
            "Requirement already satisfied: numpy>=1.15.4 in /usr/local/lib/python3.6/dist-packages (from pandas) (1.18.5)\n",
            "Requirement already satisfied: pytz>=2017.2 in /usr/local/lib/python3.6/dist-packages (from pandas) (2018.9)\n",
            "Requirement already satisfied: python-dateutil>=2.7.3 in /usr/local/lib/python3.6/dist-packages (from pandas) (2.8.1)\n",
            "Requirement already satisfied: six>=1.5 in /usr/local/lib/python3.6/dist-packages (from python-dateutil>=2.7.3->pandas) (1.15.0)\n"
          ],
          "name": "stdout"
        }
      ]
    },
    {
      "cell_type": "code",
      "metadata": {
        "id": "bPKdiyHzSgi0"
      },
      "source": [
        "#import \n",
        "import numpy as np\n",
        "import pandas as pd"
      ],
      "execution_count": 13,
      "outputs": []
    },
    {
      "cell_type": "code",
      "metadata": {
        "id": "Ojk9tZYUSmbS",
        "outputId": "faf5d130-600e-460d-c4d6-c15a19440eb5",
        "colab": {
          "base_uri": "https://localhost:8080/"
        }
      },
      "source": [
        "#Create Dataframes\n",
        "d1 = pd.DataFrame([[1,\"Can Yamen\", 'Male', 25 , 'Science'],\n",
        "                  [2,\"Sanem Devit\", 'Female', 23 , 'Economics']])\n",
        "print(d1)\n",
        "\n",
        "print(\"-------------------------------------------------\")\n",
        "#Dataframes with column header\n",
        "cols = ['Roll no', 'Name', \"Gender\", 'Age', 'Subjects']\n",
        "\n",
        "d2 = pd.DataFrame([[1,\"Can Yamen\", 'Male', 25 , 'Science'],\n",
        "                  [2,\"Sanem Devit\", 'Female', 23 , 'Economics']],\n",
        "                  columns=cols)\n",
        "print(d2)"
      ],
      "execution_count": 14,
      "outputs": [
        {
          "output_type": "stream",
          "text": [
            "   0            1       2   3          4\n",
            "0  1    Can Yamen    Male  25    Science\n",
            "1  2  Sanem Devit  Female  23  Economics\n",
            "-------------------------------------------------\n",
            "   Roll no         Name  Gender  Age   Subjects\n",
            "0        1    Can Yamen    Male   25    Science\n",
            "1        2  Sanem Devit  Female   23  Economics\n"
          ],
          "name": "stdout"
        }
      ]
    },
    {
      "cell_type": "code",
      "metadata": {
        "id": "XoYkogTxS-ab",
        "outputId": "f69fe1ee-209f-40e1-b212-1a7ae8e89a75",
        "colab": {
          "base_uri": "https://localhost:8080/"
        }
      },
      "source": [
        "# Convert Data into Dataframes from Dictionary\n",
        "d3 = pd.DataFrame(dict(Roll_no = [1,2],\n",
        "                       Name=['Can','Sam'],\n",
        "                       Gender=['M','F'],\n",
        "                       Age= [25,23],\n",
        "                       Subject = ['Eng','Sci']))\n",
        "print(d3)"
      ],
      "execution_count": 16,
      "outputs": [
        {
          "output_type": "stream",
          "text": [
            "   Roll_no Name Gender  Age Subject\n",
            "0        1  Can      M   25     Eng\n",
            "1        2  Sam      F   23     Sci\n"
          ],
          "name": "stdout"
        }
      ]
    },
    {
      "cell_type": "code",
      "metadata": {
        "id": "ETJfLk6Gxitp",
        "outputId": "c13f1c54-ba98-4801-ab20-b614858a0921",
        "colab": {
          "base_uri": "https://localhost:8080/"
        }
      },
      "source": [
        "# Dataframes using Series\n",
        "\n",
        "x=[1,2,3,4,5,6]\n",
        "#create series\n",
        "s = pd.Series(x)\n",
        "print(s)\n",
        "print(\"-------------------------------------\")\n",
        "#create index\n",
        "index = ['a','b','c','d','e','f']\n",
        "#add index to Series\n",
        "s1 = pd.Series(data=x,index=index)\n",
        "print(s1)\n",
        "print(\"------------------------------------\")\n",
        "#covert to DF (col is added)\n",
        "df_s = pd.DataFrame(s1)\n",
        "print(df_s)"
      ],
      "execution_count": 28,
      "outputs": [
        {
          "output_type": "stream",
          "text": [
            "0    1\n",
            "1    2\n",
            "2    3\n",
            "3    4\n",
            "4    5\n",
            "5    6\n",
            "dtype: int64\n",
            "-------------------------------------\n",
            "a    1\n",
            "b    2\n",
            "c    3\n",
            "d    4\n",
            "e    5\n",
            "f    6\n",
            "dtype: int64\n",
            "------------------------------------\n",
            "   0\n",
            "a  1\n",
            "b  2\n",
            "c  3\n",
            "d  4\n",
            "e  5\n",
            "f  6\n"
          ],
          "name": "stdout"
        }
      ]
    },
    {
      "cell_type": "code",
      "metadata": {
        "id": "PYazBOz0x647",
        "outputId": "c55b2ced-98ff-4877-e74c-388bb70f593f",
        "colab": {
          "base_uri": "https://localhost:8080/"
        }
      },
      "source": [
        "#Create DataFrames from dictionary\n",
        "a = ['A','B','C','D']\n",
        "b = [True, False, True, False]\n",
        "c = [1,2,3,4]\n",
        "\n",
        "dict1 = {\"a\":a,\n",
        "        \"b\":b,\n",
        "        \"c\":c}\n",
        "print(\"Dictionary :\")\n",
        "print(dict1)\n",
        "print(\"------------------------------------\")\n",
        "print(\"DataFrame :\")\n",
        "df1 = pd.DataFrame(dict1)\n",
        "print(df1)"
      ],
      "execution_count": 39,
      "outputs": [
        {
          "output_type": "stream",
          "text": [
            "Dictionary :\n",
            "{'a': ['A', 'B', 'C', 'D'], 'b': [True, False, True, False], 'c': [1, 2, 3, 4]}\n",
            "------------------------------------\n",
            "DataFrame :\n",
            "   a      b  c\n",
            "0  A   True  1\n",
            "1  B  False  2\n",
            "2  C   True  3\n",
            "3  D  False  4\n"
          ],
          "name": "stdout"
        }
      ]
    },
    {
      "cell_type": "code",
      "metadata": {
        "id": "BF6Pty1c03bZ",
        "outputId": "396f7ee6-a03f-4f8e-e186-e4409b53f845",
        "colab": {
          "base_uri": "https://localhost:8080/"
        }
      },
      "source": [
        "#Printing Index\n",
        "print(\"Print Index\")\n",
        "print(df1.index)\n",
        "print(\"------------------------------------------------\")\n",
        "\n",
        "#Updating Row Index \n",
        "row_index = ['one','two','three', 'four']\n",
        "df1.index = row_index\n",
        "print(df1)\n",
        "print(\"------------------------------------------------\")\n",
        "\n",
        "print(\"Print Index\")\n",
        "print(df1.index)"
      ],
      "execution_count": 44,
      "outputs": [
        {
          "output_type": "stream",
          "text": [
            "Print Index\n",
            "Index(['one', 'two', 'three', 'four'], dtype='object')\n",
            "------------------------------------------------\n",
            "       a      b  c\n",
            "one    A   True  1\n",
            "two    B  False  2\n",
            "three  C   True  3\n",
            "four   D  False  4\n",
            "------------------------------------------------\n",
            "Print Index\n",
            "Index(['one', 'two', 'three', 'four'], dtype='object')\n"
          ],
          "name": "stdout"
        }
      ]
    },
    {
      "cell_type": "code",
      "metadata": {
        "id": "he1mVazS2if0",
        "outputId": "e10e12cb-a6d9-4aae-c039-0360a3636ed7",
        "colab": {
          "base_uri": "https://localhost:8080/"
        }
      },
      "source": [
        "#Concatenate Dataframes\n",
        "## Col name should be same if they are not error will be thrown\n",
        "cols1 = ['Roll no', 'Name', \"Gender\", 'Age', 'Subjects']\n",
        "\n",
        "df1 = pd.DataFrame([[1,\"Can Yamen\", 'Male', 25 , 'Science'],\n",
        "                  [2,\"Sanem Devit\", 'Female', 23 , 'Economics']],\n",
        "                                    columns=cols1)\n",
        "\n",
        "cols2 = ['Roll no', 'Name', \"Gender\", 'Age', 'Subjects']\n",
        "\n",
        "df2 = pd.DataFrame([[1,\"Embre Yamen\", 'Male', 24 , 'Maths'],\n",
        "                  [2,\"Leyla Devit\", 'Female', 24 , 'English']],\n",
        "                                    columns=cols2)\n",
        "\n",
        "\n",
        "df_conc = pd.concat([df1,df2])\n",
        "print(df_conc)"
      ],
      "execution_count": 47,
      "outputs": [
        {
          "output_type": "stream",
          "text": [
            "   Roll no         Name  Gender  Age   Subjects\n",
            "0        1    Can Yamen    Male   25    Science\n",
            "1        2  Sanem Devit  Female   23  Economics\n",
            "0        1  Embre Yamen    Male   24      Maths\n",
            "1        2  Leyla Devit  Female   24    English\n"
          ],
          "name": "stdout"
        }
      ]
    },
    {
      "cell_type": "code",
      "metadata": {
        "id": "nv4PqVcdOKt2"
      },
      "source": [
        ""
      ],
      "execution_count": null,
      "outputs": []
    }
  ]
}